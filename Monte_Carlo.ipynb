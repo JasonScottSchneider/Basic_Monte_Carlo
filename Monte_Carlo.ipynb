{
 "cells": [
  {
   "cell_type": "markdown",
   "id": "european-lounge",
   "metadata": {},
   "source": [
    "## A Game of Monte Carlo\n",
    "\n",
    "<p>In this game, we have a box that contains two \\$1 bills, three \\$5 bills, and one \\$10 bill. A person selects a bill at random. Find the expected value of the bill. Perform the experiment twenty times.</p>\n",
    "<p>There are six steps that comprises a Monte Carlo:\n",
    "<ol>\n",
    "<li>List all possible outcomes of the experiment [in which we do this by having six possible integers being selected by random (i.e., two integers for \\$1, three integers for \\$5, and one integer for \\$10)]</li>\n",
    "<li>Determine the probability of each outcome [in which is done in the control block of the code where there is an if-statement]</il>\n",
    "<li>Set up a correspondence between the outcomes of the experiment and random numbers [again, this is done by picking from a range between 1 and 6 because of the possible outcomes of two integers for \\$1, three integers for \\$5, and one integer for \\$10]</li>\n",
    "<li>Generate the random numbers (i.e., roll the dice, toss the coin, etc.)</li>\n",
    "<li>Repeat the experiment and tally the outcomes [20 trials are repeated]</li>\n",
    "<li>Compute any statistics and state the conclusions</li>\n",
    "</ol>"
   ]
  },
  {
   "cell_type": "code",
   "execution_count": 56,
   "id": "roman-rocket",
   "metadata": {},
   "outputs": [
    {
     "name": "stdout",
     "output_type": "stream",
     "text": [
      "The random number is 6 in trial 0.\n",
      "A person selected a $10 bill.\n",
      "The random number is 3 in trial 1.\n",
      "A person selected a $5 bill.\n",
      "The random number is 4 in trial 2.\n",
      "A person selected a $5 bill.\n",
      "The random number is 3 in trial 3.\n",
      "A person selected a $5 bill.\n",
      "The random number is 4 in trial 4.\n",
      "A person selected a $5 bill.\n",
      "The random number is 2 in trial 5.\n",
      "A person selected a $1 bill.\n",
      "The random number is 3 in trial 6.\n",
      "A person selected a $5 bill.\n",
      "The random number is 3 in trial 7.\n",
      "A person selected a $5 bill.\n",
      "The random number is 6 in trial 8.\n",
      "A person selected a $10 bill.\n",
      "The random number is 2 in trial 9.\n",
      "A person selected a $1 bill.\n",
      "The random number is 1 in trial 10.\n",
      "A person selected a $1 bill.\n",
      "The random number is 4 in trial 11.\n",
      "A person selected a $5 bill.\n",
      "The random number is 6 in trial 12.\n",
      "A person selected a $10 bill.\n",
      "The random number is 1 in trial 13.\n",
      "A person selected a $1 bill.\n",
      "The random number is 1 in trial 14.\n",
      "A person selected a $1 bill.\n",
      "The random number is 6 in trial 15.\n",
      "A person selected a $10 bill.\n",
      "The random number is 5 in trial 16.\n",
      "A person selected a $5 bill.\n",
      "The random number is 3 in trial 17.\n",
      "A person selected a $5 bill.\n",
      "The random number is 6 in trial 18.\n",
      "A person selected a $10 bill.\n",
      "The random number is 3 in trial 19.\n",
      "A person selected a $5 bill.\n",
      "Sum: 105\n",
      "Count: 20\n",
      "The average calculated from doing a Monte Carlo is $5.25.\n"
     ]
    }
   ],
   "source": [
    "import random\n",
    "\n",
    "Count = 20 #number of trials\n",
    "Sum = 0 #sum of all trials\n",
    "for i in range(Count):\n",
    "    z = random.randint(1,6)\n",
    "    print(f\"The random number is {z} in trial {i}.\")\n",
    "    if z == 1 or z == 2:\n",
    "        Sum += 1\n",
    "        print(\"A person selected a $1 bill.\")\n",
    "    elif z == 3 or z == 4 or z == 5:\n",
    "        Sum += 5\n",
    "        print(\"A person selected a $5 bill.\")\n",
    "    elif z == 6:\n",
    "        Sum += 10\n",
    "        print(\"A person selected a $10 bill.\")\n",
    "\n",
    "y = Sum / Count\n",
    "\n",
    "print(f\"Sum: {Sum}\")\n",
    "print(f\"Count: {Count}\")\n",
    "print(f\"The average calculated from doing a Monte Carlo is ${y}.\")"
   ]
  },
  {
   "cell_type": "markdown",
   "id": "flying-harvest",
   "metadata": {},
   "source": [
    "Of course, the average will not turn out to be exactly 1, 5, or 10 most of the time. In fact, it will be some estimate other than 1, 5, or 10 with some remainder, but this gives an idea whether it can be expected to select a 1, 5, or 10. This is a crude way of extimating a Monte Carlo. How much better is the expected average derived from a Monte Carlo from a theoretical average derive from E(x) = 1/3(\\$1) + 1/2(\\$5) + 1/6(\\$10), giving E(x) = \\$4.50? "
   ]
  }
 ],
 "metadata": {
  "kernelspec": {
   "display_name": "Python 3",
   "language": "python",
   "name": "python3"
  },
  "language_info": {
   "codemirror_mode": {
    "name": "ipython",
    "version": 3
   },
   "file_extension": ".py",
   "mimetype": "text/x-python",
   "name": "python",
   "nbconvert_exporter": "python",
   "pygments_lexer": "ipython3",
   "version": "3.9.2"
  }
 },
 "nbformat": 4,
 "nbformat_minor": 5
}
